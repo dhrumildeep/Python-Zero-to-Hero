{
  "nbformat": 4,
  "nbformat_minor": 0,
  "metadata": {
    "colab": {
      "name": "Untitled1.ipynb",
      "provenance": []
    },
    "kernelspec": {
      "name": "python3",
      "display_name": "Python 3"
    },
    "language_info": {
      "name": "python"
    }
  },
  "cells": [
    {
      "cell_type": "code",
      "metadata": {
        "colab": {
          "base_uri": "https://localhost:8080/"
        },
        "id": "5KHFUICOcN5o",
        "outputId": "22f0a14d-268c-41a2-d6bd-5dca35d73cd3"
      },
      "source": [
        "#Take two inputs and store in variable x and y, print the result of x to the power y.",
        "a = int(input(\"Enter First Number: \"))\n",
        "b = int(input(\"Enter Second Number: \"))\n",
        "x = pow(a,b)\n",
        "print('power value is',x)"
      ],
      "execution_count": 3,
      "outputs": [
        {
          "output_type": "stream",
          "text": [
            "Enter First Number: 4\n",
            "Enter Second Number: 3\n",
            "power value is 64\n"
          ],
          "name": "stdout"
        }
      ]
    },
    {
      "cell_type": "code",
      "metadata": {
        "id": "333K830lcWpt"
      },
      "source": [
        ""
      ],
      "execution_count": null,
      "outputs": []
    }
  ]
}
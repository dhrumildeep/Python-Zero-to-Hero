{
  "nbformat": 4,
  "nbformat_minor": 0,
  "metadata": {
    "colab": {
      "name": "Untitled4.ipynb",
      "provenance": []
    },
    "kernelspec": {
      "name": "python3",
      "display_name": "Python 3"
    },
    "language_info": {
      "name": "python"
    }
  },
  "cells": [
    {
      "cell_type": "code",
      "metadata": {
        "colab": {
          "base_uri": "https://localhost:8080/"
        },
        "id": "e8-ai66GiEsv",
        "outputId": "3ba1a94d-2966-43a3-a7cc-033e12dfa3d6"
      },
      "source": [
        "#Generate alphanumeric OTP of length 6  \n",
        "import math, random\n",
        " \n",
        "# function to generate OTP\n",
        "def generateOTP() :\n",
        " \n",
        "    # Declare a string variable \n",
        "    # which stores all string\n",
        "    string = '0123456789abcdefghijklmnopqrstuvwxyzABCDEFGHIJKLMNOPQRSTUVWXYZ'\n",
        "    OTP = \"\"\n",
        "    length = len(string)\n",
        "    for i in range(6) :\n",
        "        OTP += string[math.floor(random.random() * length)]\n",
        " \n",
        "    return OTP\n",
        " \n",
        "# Driver code\n",
        "if __name__ == \"__main__\" :\n",
        "     \n",
        "    print(\"OTP of length 6:\", generateOTP())"
      ],
      "execution_count": 4,
      "outputs": [
        {
          "output_type": "stream",
          "text": [
            "OTP of length 6: TeyUFt\n"
          ],
          "name": "stdout"
        }
      ]
    },
    {
      "cell_type": "code",
      "metadata": {
        "colab": {
          "base_uri": "https://localhost:8080/"
        },
        "id": "HCPALWvziWP4",
        "outputId": "c232bbbf-6153-423b-d40d-4d2dcef18f62"
      },
      "source": [
        "# Implement a decoretor mod_div which assure that the numarator is always greator than denometor\n",
        "\n",
        "def mod_div(a,b) :\n",
        "  if(a>b):\n",
        "    answer = a/b\n",
        "  if(b>a):\n",
        "    answer = b/a\n",
        "  return answer\n",
        "\n",
        "num1 = int(input(\"First Number \"))\n",
        "num2 = int(input(\"Second Number \"))\n",
        "\n",
        "print(\"div of two numbers is \",mod_div(num1,num2))"
      ],
      "execution_count": 8,
      "outputs": [
        {
          "output_type": "stream",
          "text": [
            "First Number 2\n",
            "Second Number 4\n",
            "div of two numbers is  2.0\n"
          ],
          "name": "stdout"
        }
      ]
    }
  ]
}
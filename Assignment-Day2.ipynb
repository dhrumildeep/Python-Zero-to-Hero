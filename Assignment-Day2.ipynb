{
  "nbformat": 4,
  "nbformat_minor": 0,
  "metadata": {
    "colab": {
      "name": "Untitled4.ipynb",
      "provenance": []
    },
    "kernelspec": {
      "name": "python3",
      "display_name": "Python 3"
    },
    "language_info": {
      "name": "python"
    }
  },
  "cells": [
    {
      "cell_type": "code",
      "metadata": {
        "colab": {
          "base_uri": "https://localhost:8080/"
        },
        "id": "e8-ai66GiEsv",
        "outputId": "f29e278a-faec-4c2e-f010-aff0a13346a2"
      },
      "source": [
        "# Get random names of the people in the list using For loop, Maximum participant variable and input() function and then get your lottery run \n",
        "\n",
        "import random\n",
        "maxParticipant=int(input(\"Enter the Number of Participants: \"))\n",
        "particiapnts_List=[]\n",
        "for i in range(maxParticipant):\n",
        "  particiapnts_List.append(input(\"Enter the Name of Participants:\"))\n",
        "\n",
        "print(\"Participants are:\",particiapnts_List)\n",
        "n=random.randint(0,maxParticipant-1)\n",
        "\n",
        "winner=particiapnts_List[n]\n",
        "print(\"The Winner is:\",winner)"
      ],
      "execution_count": 11,
      "outputs": [
        {
          "output_type": "stream",
          "text": [
            "Enter the Number of Participants: 3\n",
            "Enter the Name of Participants:Dhrumil\n",
            "Enter the Name of Participants:Naksh\n",
            "Enter the Name of Participants:Karishma\n",
            "Participants are: ['Dhrumil', 'Naksh', 'Karishma']\n",
            "The Winner is: Karishma\n"
          ],
          "name": "stdout"
        }
      ]
    }
  ]
}